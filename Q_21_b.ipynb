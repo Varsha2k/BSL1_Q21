{
 "cells": [
  {
   "cell_type": "code",
   "execution_count": null,
   "id": "7dfc6fe2",
   "metadata": {},
   "outputs": [],
   "source": [
    "#Q_21_b\n",
    "import numpy as np\n",
    "import pandas as pd\n",
    "from scipy import stats\n",
    "from scipy.stats import norm"
   ]
  },
  {
   "cell_type": "code",
   "execution_count": null,
   "id": "56de0f15",
   "metadata": {},
   "outputs": [],
   "source": [
    "wcat=pd.read_csv('../Documents/excelr_assgs/basicstats_lvl1/wc-at.csv')\n",
    "wcat"
   ]
  },
  {
   "cell_type": "code",
   "execution_count": null,
   "id": "081d49a5",
   "metadata": {},
   "outputs": [],
   "source": [
    "# plotting distribution for Waist Circumference (Waist) \n",
    "sns.distplot(wcat.Waist)\n",
    "plt.ylabel('density');"
   ]
  },
  {
   "cell_type": "code",
   "execution_count": null,
   "id": "3366329c",
   "metadata": {},
   "outputs": [],
   "source": [
    "# plotting distribution for Adipose Tissue (AT) \n",
    "sns.distplot(wcat.AT)\n",
    "plt.ylabel('density');"
   ]
  },
  {
   "cell_type": "code",
   "execution_count": null,
   "id": "9dc4ea57",
   "metadata": {},
   "outputs": [],
   "source": [
    "# WC\n",
    "wcat.Waist.mean() , wcat.Waist.median()"
   ]
  },
  {
   "cell_type": "code",
   "execution_count": null,
   "id": "3401a9ea",
   "metadata": {},
   "outputs": [],
   "source": [
    "# AT\n",
    "wcat.AT.mean() , wcat.AT.median()\n",
    "#to follow ND mean ~= median"
   ]
  },
  {
   "cell_type": "code",
   "execution_count": null,
   "id": "d394fc24",
   "metadata": {},
   "outputs": [],
   "source": []
  },
  {
   "cell_type": "code",
   "execution_count": null,
   "id": "16f8f36c",
   "metadata": {},
   "outputs": [],
   "source": []
  }
 ],
 "metadata": {
  "kernelspec": {
   "display_name": "Python 3 (ipykernel)",
   "language": "python",
   "name": "python3"
  },
  "language_info": {
   "codemirror_mode": {
    "name": "ipython",
    "version": 3
   },
   "file_extension": ".py",
   "mimetype": "text/x-python",
   "name": "python",
   "nbconvert_exporter": "python",
   "pygments_lexer": "ipython3",
   "version": "3.9.12"
  }
 },
 "nbformat": 4,
 "nbformat_minor": 5
}
